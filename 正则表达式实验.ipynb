{
 "cells": [
  {
   "cell_type": "markdown",
   "id": "a7557a21",
   "metadata": {},
   "source": [
    "\n",
    "Python RegEx\n",
    "\n",
    "https://www.w3schools.com/python/python_regex.asp"
   ]
  },
  {
   "cell_type": "code",
   "execution_count": 1,
   "id": "47b4a2f9",
   "metadata": {},
   "outputs": [],
   "source": [
    "import re"
   ]
  },
  {
   "cell_type": "code",
   "execution_count": 28,
   "id": "dfed26ef",
   "metadata": {},
   "outputs": [],
   "source": [
    "status_info_str = '''\n",
    "Info, E110,Line overflow\n",
    "Info, E100,Expected command letter\n",
    "<Idle,Angle(ABCDXYZ):0.000,-74.673,-39.714,0.000,39.707,33.351,41.325,Cartesian coordinate(XYZ RxRyRz):117.713,97.753,35.248,0.000,0.000,0.000,Pump PWM:0,Valve PWM:0,Motion_MODE:1>\n",
    "ok\n",
    "ok\n",
    "ok\n",
    "'''"
   ]
  },
  {
   "cell_type": "code",
   "execution_count": 29,
   "id": "cdca1ada",
   "metadata": {},
   "outputs": [
    {
     "name": "stdout",
     "output_type": "stream",
     "text": [
      "('Idle', '0.000,-74.673,-39.714,0.000,39.707,33.351,41.325', '117.713,97.753,35.248,0.000,0.000,0.000', '0', '0', '1')\n"
     ]
    }
   ],
   "source": [
    "regex_match = re.search(state_regex,  status_info_str)# re.fullmatch(state_regex, msg)   \n",
    "print(regex_match.groups())"
   ]
  },
  {
   "cell_type": "code",
   "execution_count": 13,
   "id": "778996ae",
   "metadata": {},
   "outputs": [
    {
     "ename": "AttributeError",
     "evalue": "'NoneType' object has no attribute 'groups'",
     "output_type": "error",
     "traceback": [
      "\u001b[1;31m---------------------------------------------------------------------------\u001b[0m",
      "\u001b[1;31mAttributeError\u001b[0m                            Traceback (most recent call last)",
      "\u001b[1;32m~\\AppData\\Local\\Temp/ipykernel_8904/480786586.py\u001b[0m in \u001b[0;36m<module>\u001b[1;34m\u001b[0m\n\u001b[0;32m      1\u001b[0m \u001b[0mregex_match\u001b[0m\u001b[1;33m\u001b[0m\u001b[1;33m\u001b[0m\u001b[0m\n\u001b[1;32m----> 2\u001b[1;33m \u001b[0mprint\u001b[0m\u001b[1;33m(\u001b[0m\u001b[0mregex_match\u001b[0m\u001b[1;33m.\u001b[0m\u001b[0mgroups\u001b[0m\u001b[1;33m(\u001b[0m\u001b[1;33m)\u001b[0m\u001b[1;33m)\u001b[0m\u001b[1;33m\u001b[0m\u001b[1;33m\u001b[0m\u001b[0m\n\u001b[0m",
      "\u001b[1;31mAttributeError\u001b[0m: 'NoneType' object has no attribute 'groups'"
     ]
    }
   ],
   "source": [
    "regex_match\n"
   ]
  },
  {
   "cell_type": "code",
   "execution_count": 10,
   "id": "1cd7ec95",
   "metadata": {},
   "outputs": [
    {
     "ename": "AttributeError",
     "evalue": "'NoneType' object has no attribute 'groups'",
     "output_type": "error",
     "traceback": [
      "\u001b[1;31m---------------------------------------------------------------------------\u001b[0m",
      "\u001b[1;31mAttributeError\u001b[0m                            Traceback (most recent call last)",
      "\u001b[1;32m~\\AppData\\Local\\Temp/ipykernel_8904/1971961036.py\u001b[0m in \u001b[0;36m<module>\u001b[1;34m\u001b[0m\n\u001b[1;32m----> 1\u001b[1;33m \u001b[0mstate\u001b[0m\u001b[1;33m,\u001b[0m \u001b[0mangles\u001b[0m\u001b[1;33m,\u001b[0m \u001b[0mcartesians\u001b[0m\u001b[1;33m,\u001b[0m \u001b[0mpump_pwm\u001b[0m\u001b[1;33m,\u001b[0m \u001b[0mvalve_pwm\u001b[0m\u001b[1;33m,\u001b[0m \u001b[0mmotion_mode\u001b[0m \u001b[1;33m=\u001b[0m \u001b[0mregex_match\u001b[0m\u001b[1;33m.\u001b[0m\u001b[0mgroups\u001b[0m\u001b[1;33m(\u001b[0m\u001b[1;33m)\u001b[0m\u001b[1;33m\u001b[0m\u001b[1;33m\u001b[0m\u001b[0m\n\u001b[0m",
      "\u001b[1;31mAttributeError\u001b[0m: 'NoneType' object has no attribute 'groups'"
     ]
    }
   ],
   "source": [
    "state, angles, cartesians, pump_pwm, valve_pwm, motion_mode = regex_match.groups()"
   ]
  }
 ],
 "metadata": {
  "kernelspec": {
   "display_name": "Python 3 (ipykernel)",
   "language": "python",
   "name": "python3"
  },
  "language_info": {
   "codemirror_mode": {
    "name": "ipython",
    "version": 3
   },
   "file_extension": ".py",
   "mimetype": "text/x-python",
   "name": "python",
   "nbconvert_exporter": "python",
   "pygments_lexer": "ipython3",
   "version": "3.9.6"
  }
 },
 "nbformat": 4,
 "nbformat_minor": 5
}
